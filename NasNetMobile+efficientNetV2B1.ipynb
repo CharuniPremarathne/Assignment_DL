{
  "nbformat": 4,
  "nbformat_minor": 0,
  "metadata": {
    "colab": {
      "provenance": [],
      "gpuType": "T4",
      "include_colab_link": true
    },
    "kernelspec": {
      "name": "python3",
      "display_name": "Python 3"
    },
    "language_info": {
      "name": "python"
    },
    "accelerator": "GPU"
  },
  "cells": [
    {
      "cell_type": "markdown",
      "metadata": {
        "id": "view-in-github",
        "colab_type": "text"
      },
      "source": [
        "<a href=\"https://colab.research.google.com/github/CharuniPremarathne/Assignment_DL/blob/main/NasNetMobile%2BefficientNetV2B1.ipynb\" target=\"_parent\"><img src=\"https://colab.research.google.com/assets/colab-badge.svg\" alt=\"Open In Colab\"/></a>"
      ]
    },
    {
      "cell_type": "code",
      "execution_count": null,
      "metadata": {
        "id": "vMiP0QYYyD4u"
      },
      "outputs": [],
      "source": [
        "import os\n",
        "import numpy as np\n",
        "import tensorflow as tf\n",
        "from tensorflow.keras import *\n",
        "from tensorflow.keras.layers import *\n",
        "from tensorflow.keras.models import *\n",
        "from tensorflow.keras.callbacks import *\n",
        "from tensorflow.keras.optimizers import *\n",
        "from tensorflow.keras.losses import *\n",
        "from tensorflow.keras.preprocessing.image import ImageDataGenerator\n",
        "from tensorflow.keras import models, layers, callbacks, optimizers\n",
        "from tensorflow.keras.optimizers.legacy import Adam\n",
        "import matplotlib.pyplot as plt\n",
        "import time"
      ]
    },
    {
      "cell_type": "code",
      "source": [
        "IMAGE_SIZE = 128\n",
        "BATCH_SIZE = 32\n",
        "CHANNELS = 3\n",
        "EPOCHS = 30"
      ],
      "metadata": {
        "id": "R6q6ZGX-yKhh"
      },
      "execution_count": null,
      "outputs": []
    },
    {
      "cell_type": "code",
      "source": [
        "from google.colab import drive\n",
        "drive.mount('/content/drive')"
      ],
      "metadata": {
        "colab": {
          "base_uri": "https://localhost:8080/"
        },
        "id": "CDhX8f3A05VF",
        "outputId": "8b516d60-7a52-45d1-85f4-7cff58d84ddc"
      },
      "execution_count": null,
      "outputs": [
        {
          "output_type": "stream",
          "name": "stdout",
          "text": [
            "Drive already mounted at /content/drive; to attempt to forcibly remount, call drive.mount(\"/content/drive\", force_remount=True).\n"
          ]
        }
      ]
    },
    {
      "cell_type": "code",
      "source": [
        "!cp /content/drive/MyDrive/rp/Dataset.zip /content"
      ],
      "metadata": {
        "id": "jIbPnN5b1JPZ"
      },
      "execution_count": null,
      "outputs": []
    },
    {
      "cell_type": "code",
      "source": [
        "!unzip -q DatasetNN.zip -d /content/Dataset"
      ],
      "metadata": {
        "colab": {
          "base_uri": "https://localhost:8080/"
        },
        "id": "JPhr8uve1Pd9",
        "outputId": "4afc8f8f-a49d-4f58-92ba-906621722889"
      },
      "execution_count": null,
      "outputs": [
        {
          "output_type": "stream",
          "name": "stdout",
          "text": [
            "replace /content/Dataset/DatasetNN/test/AMD/amd_test_1001.jpg? [y]es, [n]o, [A]ll, [N]one, [r]ename: "
          ]
        }
      ]
    },
    {
      "cell_type": "code",
      "source": [
        "data_dir = \"/content/Dataset/Dataset\"\n",
        "train_dir = data_dir + \"/train\"\n",
        "valid_dir = data_dir + \"/val\"\n",
        "test_dir = data_dir + \"/test\""
      ],
      "metadata": {
        "id": "0xtNIxJK00Kd"
      },
      "execution_count": null,
      "outputs": []
    },
    {
      "cell_type": "code",
      "source": [
        "# Initialize an ImageDataGenerator object for augmenting and processing training data.\n",
        "train_datagen = ImageDataGenerator(\n",
        "        rescale=1./255,  # Rescale the pixel values of the images to the range [0, 1].\n",
        "        rotation_range=10,  # Randomly rotate the images by a maximum of 10 degrees.\n",
        "        horizontal_flip=True  # Flip the images horizontally (left to right) randomly.\n",
        ")\n",
        "\n",
        "# Create a generator using the ImageDataGenerator to load and process images from a directory.\n",
        "train_gen = train_datagen.flow_from_directory(\n",
        "        train_dir,  # Path to the directory containing the training images.\n",
        "        target_size=(IMAGE_SIZE, IMAGE_SIZE),  # Resize the images to a specified size (e.g., (256, 256)).\n",
        "        batch_size=BATCH_SIZE,  # Number of images in each batch during training.\n",
        "        class_mode='categorical',  # Type of labels for the classes ('categorical' for one-hot encoded labels).\n",
        "        classes=['ARMD', 'NORMAL']  # Explicitly define the classes and their order.\n",
        ")\n"
      ],
      "metadata": {
        "id": "mpdRmmZ7yOxu",
        "colab": {
          "base_uri": "https://localhost:8080/"
        },
        "outputId": "72fbc99a-aa99-4501-8681-92311367c04d"
      },
      "execution_count": null,
      "outputs": [
        {
          "output_type": "stream",
          "name": "stdout",
          "text": [
            "Found 4600 images belonging to 2 classes.\n"
          ]
        }
      ]
    },
    {
      "cell_type": "code",
      "source": [
        "# Retrieve the dictionary containing the mapping of class names to numerical indices\n",
        "# from the ImageDataGenerator object used to generate training data.\n",
        "train_gen.class_indices\n",
        "\n",
        "# For example, if the classes are 'DME' and 'NORMAL', the dictionary might look like this:\n",
        "# {'DME': 0, 'NORMAL': 1}\n"
      ],
      "metadata": {
        "id": "_qQcUaQxyQy_",
        "colab": {
          "base_uri": "https://localhost:8080/"
        },
        "outputId": "dd96c97f-67a6-498f-bf0f-c38386fdfb28"
      },
      "execution_count": null,
      "outputs": [
        {
          "output_type": "execute_result",
          "data": {
            "text/plain": [
              "{'AMD': 0, 'NORMAL': 1}"
            ]
          },
          "metadata": {},
          "execution_count": 18
        }
      ]
    },
    {
      "cell_type": "code",
      "source": [
        "# Initialize an ImageDataGenerator object for augmenting and processing validation (or test) data.\n",
        "valid_datagen = ImageDataGenerator(\n",
        "        rescale=1./255,  # Rescale the pixel values of the images to the range [0, 1].\n",
        "        rotation_range=10,  # Randomly rotate the images by a maximum of 10 degrees.\n",
        "        horizontal_flip=True  # Flip the images horizontally (left to right) randomly.\n",
        ")\n",
        "\n",
        "# Create a generator using the ImageDataGenerator to load and process images from a directory for validation.\n",
        "valid_gen = valid_datagen.flow_from_directory(\n",
        "        valid_dir,  # Path to the directory containing the validation (or test) images.\n",
        "        target_size=(IMAGE_SIZE, IMAGE_SIZE),  # Resize the images to a specified size (e.g., (256, 256)).\n",
        "        batch_size=BATCH_SIZE,  # Number of images in each batch during validation.\n",
        "        class_mode='categorical',  # Type of labels for the classes ('categorical' for one-hot encoded labels).\n",
        "        classes=['ARMD', 'NORMAL']  # Explicitly define the classes and their order.\n",
        ")"
      ],
      "metadata": {
        "id": "ZTKSG7bGySjh",
        "colab": {
          "base_uri": "https://localhost:8080/"
        },
        "outputId": "705cf233-2b8f-40d7-b99e-10296aed1436"
      },
      "execution_count": null,
      "outputs": [
        {
          "output_type": "stream",
          "name": "stdout",
          "text": [
            "Found 700 images belonging to 2 classes.\n"
          ]
        }
      ]
    },
    {
      "cell_type": "code",
      "source": [
        "# Initialize an ImageDataGenerator object for augmenting and processing test data.\n",
        "test_datagen = ImageDataGenerator(\n",
        "        rescale=1./255,  # Rescale the pixel values of the images to the range [0, 1].\n",
        "        rotation_range=10,  # Randomly rotate the images by a maximum of 10 degrees.\n",
        "        horizontal_flip=True  # Flip the images horizontally (left to right) randomly.\n",
        ")\n",
        "\n",
        "# Create a generator using the ImageDataGenerator to load and process test images from a directory.\n",
        "test_gen = test_datagen.flow_from_directory(\n",
        "        test_dir,  # Path to the directory containing the test images.\n",
        "        target_size=(IMAGE_SIZE, IMAGE_SIZE),  # Resize the images to a specified size (e.g., (256, 256)).\n",
        "        batch_size=BATCH_SIZE,  # Number of images in each batch during testing.\n",
        "        class_mode='categorical',  # Type of labels for the classes ('categorical' for one-hot encoded labels).\n",
        "        classes=['ARMD', 'NORMAL']  # Explicitly define the classes and their order.\n",
        ")\n"
      ],
      "metadata": {
        "id": "cRXikqu5yUR5",
        "colab": {
          "base_uri": "https://localhost:8080/"
        },
        "outputId": "a1700fa1-575b-4de3-bdb8-a45f3af4efa2"
      },
      "execution_count": null,
      "outputs": [
        {
          "output_type": "stream",
          "name": "stdout",
          "text": [
            "Found 700 images belonging to 2 classes.\n"
          ]
        }
      ]
    },
    {
      "cell_type": "markdown",
      "source": [
        "models"
      ],
      "metadata": {
        "id": "-9Flcr0X1vxk"
      }
    },
    {
      "cell_type": "markdown",
      "source": [
        "NASNetMobile"
      ],
      "metadata": {
        "id": "y_2PT9BZ10kn"
      }
    },
    {
      "cell_type": "code",
      "source": [
        "input_shape = (IMAGE_SIZE, IMAGE_SIZE, CHANNELS)\n",
        "n_classes = 2\n",
        "\n",
        "def inception_model(input_shape, n_classes):\n",
        "    # Create an Xception base model with pre-trained weights from ImageNet\n",
        "    base_model = tf.keras.applications.NASNetMobile(input_shape=input_shape, include_top=False, weights=\"imagenet\")\n",
        "\n",
        "    # Freeze the weights of the pre-trained Xception model\n",
        "    base_model.trainable = False\n",
        "\n",
        "    # Define the input tensor for the model\n",
        "    inputs = Input(shape=input_shape)\n",
        "\n",
        "    # Pass the input through the base model (Xception) without training its weights\n",
        "    x = base_model(inputs, training=False)\n",
        "\n",
        "    # Perform global average pooling to reduce spatial dimensions\n",
        "    x = GlobalAveragePooling2D()(x)\n",
        "\n",
        "    # Apply dropout for regularization to prevent overfitting\n",
        "    x = Dropout(0.15)(x)\n",
        "\n",
        "    # Define the activation function and number of units for the output layer\n",
        "    activation = \"softmax\"\n",
        "    units = n_classes\n",
        "\n",
        "    # Apply another dropout layer for regularization\n",
        "    x = Dropout(0.2)(x)\n",
        "\n",
        "    # Create a dense layer for the final prediction with specified activation function\n",
        "    prediction_layer = Dense(units, activation=activation)\n",
        "\n",
        "    # Connect the dense layer to the previous layer (x)\n",
        "    outputs = prediction_layer(x)\n",
        "\n",
        "    # Create the final model with input and output tensors\n",
        "    model = Model(inputs, outputs)\n",
        "\n",
        "    # Return the constructed model\n",
        "    return model"
      ],
      "metadata": {
        "id": "c_vFlPN9yeiH"
      },
      "execution_count": null,
      "outputs": []
    },
    {
      "cell_type": "code",
      "source": [
        "# Call the xception_model function to create an instance of the model\n",
        "inception_model = inception_model(input_shape, n_classes)\n",
        "\n",
        "# Display a summary of the model's architecture\n",
        "inception_model.summary()"
      ],
      "metadata": {
        "id": "LJ8HzZEZygvM",
        "colab": {
          "base_uri": "https://localhost:8080/"
        },
        "outputId": "bfafd013-e8a1-4f2c-e31e-9900c77cc18f"
      },
      "execution_count": null,
      "outputs": [
        {
          "output_type": "stream",
          "name": "stdout",
          "text": [
            "Downloading data from https://storage.googleapis.com/tensorflow/keras-applications/inception_v3/inception_v3_weights_tf_dim_ordering_tf_kernels_notop.h5\n",
            "87910968/87910968 [==============================] - 0s 0us/step\n",
            "Model: \"model\"\n",
            "_________________________________________________________________\n",
            " Layer (type)                Output Shape              Param #   \n",
            "=================================================================\n",
            " input_2 (InputLayer)        [(None, 128, 128, 3)]     0         \n",
            "                                                                 \n",
            " inception_v3 (Functional)   (None, 2, 2, 2048)        21802784  \n",
            "                                                                 \n",
            " global_average_pooling2d (  (None, 2048)              0         \n",
            " GlobalAveragePooling2D)                                         \n",
            "                                                                 \n",
            " dropout (Dropout)           (None, 2048)              0         \n",
            "                                                                 \n",
            " dropout_1 (Dropout)         (None, 2048)              0         \n",
            "                                                                 \n",
            " dense (Dense)               (None, 2)                 4098      \n",
            "                                                                 \n",
            "=================================================================\n",
            "Total params: 21806882 (83.19 MB)\n",
            "Trainable params: 4098 (16.01 KB)\n",
            "Non-trainable params: 21802784 (83.17 MB)\n",
            "_________________________________________________________________\n"
          ]
        }
      ]
    },
    {
      "cell_type": "code",
      "source": [
        "base_learning_rate = 0.001\n",
        "optimizer = Adam(learning_rate = base_learning_rate)\n",
        "initial_epochs = 10\n",
        "loss = 'categorical_crossentropy'\n",
        "metrics = ['accuracy']\n",
        "callback = EarlyStopping(monitor='val_accuracy', patience=10, restore_best_weights=True)\n",
        "reduce_lr = ReduceLROnPlateau(monitor='val_accuracy',factor=1e-1, patience=8, verbose=1, min_lr = 2e-6)\n",
        "\n",
        "\n",
        "inception_model.compile(optimizer = optimizer,\n",
        "              loss = loss,\n",
        "              metrics = metrics)\n",
        "# Compile the Xception model with the specified optimizer, loss function, and metrics"
      ],
      "metadata": {
        "id": "CmsYdAiKyjGv"
      },
      "execution_count": null,
      "outputs": []
    },
    {
      "cell_type": "code",
      "source": [
        "# Train the Xception model using the fit method\n",
        "inception_history_freeze = inception_model.fit(\n",
        "    train_gen,                    # Training data generator\n",
        "    epochs=10,        # Number of training epochs\n",
        "    validation_data=valid_gen,    # Validation data generator\n",
        "    callbacks=[callback, reduce_lr],  # Callbacks for early stopping and learning rate reduction\n",
        "    shuffle=True                  # Shuffle the training data for each epoch\n",
        ")"
      ],
      "metadata": {
        "id": "L1BvsB6syk6l",
        "colab": {
          "base_uri": "https://localhost:8080/"
        },
        "outputId": "55edf71e-b312-4019-ba24-137047a325a8"
      },
      "execution_count": null,
      "outputs": [
        {
          "output_type": "stream",
          "name": "stdout",
          "text": [
            "Epoch 1/10\n",
            "144/144 [==============================] - 50s 284ms/step - loss: 0.3187 - accuracy: 0.8841 - val_loss: 0.0886 - val_accuracy: 0.9671 - lr: 0.0010\n",
            "Epoch 2/10\n",
            "144/144 [==============================] - 36s 253ms/step - loss: 0.1197 - accuracy: 0.9600 - val_loss: 0.0397 - val_accuracy: 0.9843 - lr: 0.0010\n",
            "Epoch 3/10\n",
            "144/144 [==============================] - 35s 246ms/step - loss: 0.0821 - accuracy: 0.9713 - val_loss: 0.0524 - val_accuracy: 0.9829 - lr: 0.0010\n",
            "Epoch 4/10\n",
            "144/144 [==============================] - 36s 251ms/step - loss: 0.0813 - accuracy: 0.9752 - val_loss: 0.0508 - val_accuracy: 0.9843 - lr: 0.0010\n",
            "Epoch 5/10\n",
            "144/144 [==============================] - 36s 253ms/step - loss: 0.0708 - accuracy: 0.9759 - val_loss: 0.0535 - val_accuracy: 0.9800 - lr: 0.0010\n",
            "Epoch 6/10\n",
            "144/144 [==============================] - 36s 251ms/step - loss: 0.0707 - accuracy: 0.9785 - val_loss: 0.0669 - val_accuracy: 0.9729 - lr: 0.0010\n",
            "Epoch 7/10\n",
            "144/144 [==============================] - 36s 251ms/step - loss: 0.0688 - accuracy: 0.9761 - val_loss: 0.0475 - val_accuracy: 0.9829 - lr: 0.0010\n",
            "Epoch 8/10\n",
            "144/144 [==============================] - 36s 252ms/step - loss: 0.0742 - accuracy: 0.9759 - val_loss: 0.0503 - val_accuracy: 0.9800 - lr: 0.0010\n",
            "Epoch 9/10\n",
            "144/144 [==============================] - 37s 255ms/step - loss: 0.0651 - accuracy: 0.9783 - val_loss: 0.0388 - val_accuracy: 0.9857 - lr: 0.0010\n",
            "Epoch 10/10\n",
            "144/144 [==============================] - 36s 252ms/step - loss: 0.0714 - accuracy: 0.9763 - val_loss: 0.0247 - val_accuracy: 0.9871 - lr: 0.0010\n"
          ]
        }
      ]
    },
    {
      "cell_type": "code",
      "source": [
        "# acc = [0.] + inception_history_freeze.history['accuracy']\n",
        "# val_acc = [0.] + inception_history_freeze.history['val_accuracy']\n",
        "\n",
        "# loss = inception_history_freeze.history['loss']\n",
        "# val_loss = inception_history_freeze.history['val_loss']\n",
        "\n",
        "# plt.figure(figsize=(8, 8))\n",
        "# plt.subplot(2, 1, 1)\n",
        "# plt.plot(acc, label='Training Accuracy')\n",
        "# plt.plot(val_acc, label='Validation Accuracy')\n",
        "# plt.legend(loc='lower right')\n",
        "# plt.ylabel('Accuracy')\n",
        "# plt.ylim([min(plt.ylim()),1])\n",
        "# plt.title('Training and Validation Accuracy')\n",
        "\n",
        "# plt.subplot(2, 1, 2)\n",
        "# plt.plot(loss, label='Training Loss')\n",
        "# plt.plot(val_loss, label='Validation Loss')\n",
        "# plt.legend(loc='upper right')\n",
        "# plt.ylabel('Cross Entropy')\n",
        "# plt.ylim([0,2.0])\n",
        "# plt.title('Training and Validation Loss')\n",
        "# plt.xlabel('epoch')\n",
        "# plt.show()"
      ],
      "metadata": {
        "id": "L32S9gFOynVb"
      },
      "execution_count": null,
      "outputs": []
    },
    {
      "cell_type": "code",
      "source": [
        "# base_inception_model = inception_model.layers[1]\n",
        "# base_inception_model.trainable = True\n",
        "\n",
        "# fine_tune_at = 110\n",
        "\n",
        "# # Freeze all the layers before the `fine_tune_at` layer\n",
        "# for layer in base_inception_model.layers[:fine_tune_at]:\n",
        "#     layer.trainable = False\n",
        "\n",
        "# optimizer = Adam(learning_rate = 0.1 * base_learning_rate)\n",
        "# loss = 'categorical_crossentropy'\n",
        "# metrics = ['accuracy']\n",
        "# callback = EarlyStopping(monitor='val_accuracy', patience=10, restore_best_weights=True)\n",
        "# reduce_lr = ReduceLROnPlateau(monitor='val_accuracy',factor=1e-1, patience=8, verbose=1, min_lr = 2e-6)\n",
        "\n",
        "# inception_model.compile(optimizer = optimizer,\n",
        "#                         loss = loss,\n",
        "#                         metrics = metrics)"
      ],
      "metadata": {
        "id": "Zx1tY5zDypSE"
      },
      "execution_count": null,
      "outputs": []
    },
    {
      "cell_type": "code",
      "source": [
        "# # Preview the Model Summary\n",
        "# inception_model.summary()"
      ],
      "metadata": {
        "id": "M4foHyhUyrCN"
      },
      "execution_count": null,
      "outputs": []
    },
    {
      "cell_type": "code",
      "source": [
        "# fine_tune_epochs = 10 # Define the number of fine-tuning epochs\n",
        "# total_epochs =  initial_epochs + fine_tune_epochs # Calculate the total epochs for training (initial + fine-tuning)\n",
        "\n",
        "# inception_history_fine = xception_model.fit(\n",
        "#     train_gen,# Training data generator providing batches of training data\n",
        "#     epochs=total_epochs,  # Total number of epochs for training, including initial and fine-tuning epochs\n",
        "#     initial_epoch = xception_history_freeze.epoch[-1],# Start training from the last epoch of the previous training (fine-tuning)\n",
        "#     callbacks=[callback, reduce_lr],  # List of callbacks: EarlyStopping and ReduceLROnPlateau\n",
        "#     validation_data=valid_gen,  # Validation data generator for model evaluation after each epoch\n",
        "#     shuffle=True  # Shuffle the training data before each epoch to avoid learning order dependencies\n",
        "# )"
      ],
      "metadata": {
        "id": "LC8fKyuMyvVN"
      },
      "execution_count": null,
      "outputs": []
    },
    {
      "cell_type": "code",
      "source": [
        "# acc = [0.] + inception_history_fine.history['accuracy']\n",
        "# val_acc = [0.] + inception_history_fine.history['val_accuracy']\n",
        "\n",
        "# loss = inception_history_fine.history['loss']\n",
        "# val_loss = inception_history_fine.history['val_loss']\n",
        "\n",
        "# plt.figure(figsize=(8, 8))\n",
        "# plt.subplot(2, 1, 1)\n",
        "# plt.plot(acc, label='Training Accuracy')\n",
        "# plt.plot(val_acc, label='Validation Accuracy')\n",
        "# plt.legend(loc='lower right')\n",
        "# plt.ylabel('Accuracy')\n",
        "# plt.ylim([min(plt.ylim()),1])\n",
        "# plt.title('Training and Validation Accuracy')\n",
        "\n",
        "# plt.subplot(2, 1, 2)\n",
        "# plt.plot(loss, label='Training Loss')\n",
        "# plt.plot(val_loss, label='Validation Loss')\n",
        "# plt.legend(loc='upper right')\n",
        "# plt.ylabel('Cross Entropy')\n",
        "# plt.ylim([0,3.0])\n",
        "# plt.title('Training and Validation Loss')\n",
        "# plt.xlabel('epoch')\n",
        "# plt.show()"
      ],
      "metadata": {
        "id": "VO7Tu-cNyxlD"
      },
      "execution_count": null,
      "outputs": []
    },
    {
      "cell_type": "code",
      "source": [
        "inception_model.save('/content/drive/MyDrive/rp/inception/3.keras')"
      ],
      "metadata": {
        "id": "LTKxXujYyzt8"
      },
      "execution_count": null,
      "outputs": []
    },
    {
      "cell_type": "markdown",
      "source": [
        "EfficientNetV2B1"
      ],
      "metadata": {
        "id": "2ReuLjdhzAmn"
      }
    },
    {
      "cell_type": "code",
      "source": [
        "input_shape = (IMAGE_SIZE, IMAGE_SIZE, CHANNELS)\n",
        "n_classes = 2\n",
        "\n",
        "def efficient_model(input_shape, n_classes):\n",
        "    # Create an Xception base model with pre-trained weights from ImageNet\n",
        "    base_model = tf.keras.applications.EfficientNetV2B1(input_shape=input_shape, include_top=False, weights=\"imagenet\")\n",
        "\n",
        "    # Freeze the weights of the pre-trained Xception model\n",
        "    base_model.trainable = False\n",
        "\n",
        "    # Define the input tensor for the model\n",
        "    inputs = Input(shape=input_shape)\n",
        "\n",
        "    # Pass the input through the base model (Xception) without training its weights\n",
        "    x = base_model(inputs, training=False)\n",
        "\n",
        "    # Perform global average pooling to reduce spatial dimensions\n",
        "    x = GlobalAveragePooling2D()(x)\n",
        "\n",
        "    # Apply dropout for regularization to prevent overfitting\n",
        "    x = Dropout(0.15)(x)\n",
        "\n",
        "    # Define the activation function and number of units for the output layer\n",
        "    activation = \"softmax\"\n",
        "    units = n_classes\n",
        "\n",
        "    # Apply another dropout layer for regularization\n",
        "    x = Dropout(0.2)(x)\n",
        "\n",
        "    # Create a dense layer for the final prediction with specified activation function\n",
        "    prediction_layer = Dense(units, activation=activation)\n",
        "\n",
        "    # Connect the dense layer to the previous layer (x)\n",
        "    outputs = prediction_layer(x)\n",
        "\n",
        "    # Create the final model with input and output tensors\n",
        "    model = Model(inputs, outputs)\n",
        "\n",
        "    # Return the constructed model\n",
        "    return model"
      ],
      "metadata": {
        "id": "G9wzvTPAzDog"
      },
      "execution_count": null,
      "outputs": []
    },
    {
      "cell_type": "code",
      "source": [
        "# Call the xception_model function to create an instance of the model\n",
        "efficient_model = efficient_model(input_shape, n_classes)\n",
        "\n",
        "# Display a summary of the model's architecture\n",
        "efficient_model.summary()"
      ],
      "metadata": {
        "id": "dKemkC1FzFxf",
        "colab": {
          "base_uri": "https://localhost:8080/"
        },
        "outputId": "c2a694ee-aca8-4c1b-cbc5-31f669465e59"
      },
      "execution_count": null,
      "outputs": [
        {
          "output_type": "stream",
          "name": "stdout",
          "text": [
            "Downloading data from https://storage.googleapis.com/keras-applications/efficientnetb3_notop.h5\n",
            "43941136/43941136 [==============================] - 0s 0us/step\n",
            "Model: \"model_1\"\n",
            "_________________________________________________________________\n",
            " Layer (type)                Output Shape              Param #   \n",
            "=================================================================\n",
            " input_4 (InputLayer)        [(None, 128, 128, 3)]     0         \n",
            "                                                                 \n",
            " efficientnetb3 (Functional  (None, 4, 4, 1536)        10783535  \n",
            " )                                                               \n",
            "                                                                 \n",
            " global_average_pooling2d_1  (None, 1536)              0         \n",
            "  (GlobalAveragePooling2D)                                       \n",
            "                                                                 \n",
            " dropout_2 (Dropout)         (None, 1536)              0         \n",
            "                                                                 \n",
            " dropout_3 (Dropout)         (None, 1536)              0         \n",
            "                                                                 \n",
            " dense_1 (Dense)             (None, 2)                 3074      \n",
            "                                                                 \n",
            "=================================================================\n",
            "Total params: 10786609 (41.15 MB)\n",
            "Trainable params: 3074 (12.01 KB)\n",
            "Non-trainable params: 10783535 (41.14 MB)\n",
            "_________________________________________________________________\n"
          ]
        }
      ]
    },
    {
      "cell_type": "code",
      "source": [
        "base_learning_rate = 0.001\n",
        "optimizer = Adam(learning_rate = base_learning_rate)\n",
        "initial_epochs = 15\n",
        "loss = 'categorical_crossentropy'\n",
        "metrics = ['accuracy']\n",
        "callback = EarlyStopping(monitor='val_accuracy', patience=10, restore_best_weights=True)\n",
        "reduce_lr = ReduceLROnPlateau(monitor='val_accuracy',factor=1e-1, patience=8, verbose=1, min_lr = 2e-6)\n",
        "\n",
        "\n",
        "efficient_model.compile(optimizer = optimizer,\n",
        "              loss = loss,\n",
        "              metrics = metrics)\n",
        "# Compile the Xception model with the specified optimizer, loss function, and metrics"
      ],
      "metadata": {
        "id": "foHFqLLXzJQo"
      },
      "execution_count": null,
      "outputs": []
    },
    {
      "cell_type": "code",
      "source": [
        "# Train the Xception model using the fit method\n",
        "efficient_history_freeze = efficient_model.fit(\n",
        "    train_gen,                    # Training data generator\n",
        "    epochs=15,        # Number of training epochs\n",
        "    validation_data=valid_gen,    # Validation data generator\n",
        "    callbacks=[callback, reduce_lr],  # Callbacks for early stopping and learning rate reduction\n",
        "    shuffle=True                  # Shuffle the training data for each epoch\n",
        ")"
      ],
      "metadata": {
        "id": "rQiTv-i7zLAj",
        "colab": {
          "base_uri": "https://localhost:8080/"
        },
        "outputId": "4d0fde08-dfeb-4641-8c19-3aa38e310b77"
      },
      "execution_count": null,
      "outputs": [
        {
          "output_type": "stream",
          "name": "stdout",
          "text": [
            "Epoch 1/15\n",
            "144/144 [==============================] - 55s 296ms/step - loss: 0.6849 - accuracy: 0.5626 - val_loss: 0.6552 - val_accuracy: 0.5000 - lr: 0.0010\n",
            "Epoch 2/15\n",
            "144/144 [==============================] - 37s 255ms/step - loss: 0.6339 - accuracy: 0.6441 - val_loss: 0.5995 - val_accuracy: 0.7214 - lr: 0.0010\n",
            "Epoch 3/15\n",
            "144/144 [==============================] - 38s 263ms/step - loss: 0.6038 - accuracy: 0.6909 - val_loss: 0.5681 - val_accuracy: 0.7514 - lr: 0.0010\n",
            "Epoch 4/15\n",
            "144/144 [==============================] - 38s 263ms/step - loss: 0.5760 - accuracy: 0.7211 - val_loss: 0.5439 - val_accuracy: 0.8086 - lr: 0.0010\n",
            "Epoch 5/15\n",
            "144/144 [==============================] - 38s 264ms/step - loss: 0.5651 - accuracy: 0.7254 - val_loss: 0.5806 - val_accuracy: 0.6600 - lr: 0.0010\n",
            "Epoch 6/15\n",
            "144/144 [==============================] - 42s 294ms/step - loss: 0.5565 - accuracy: 0.7213 - val_loss: 0.5258 - val_accuracy: 0.7714 - lr: 0.0010\n",
            "Epoch 7/15\n",
            "144/144 [==============================] - 37s 260ms/step - loss: 0.5474 - accuracy: 0.7311 - val_loss: 0.5099 - val_accuracy: 0.7629 - lr: 0.0010\n",
            "Epoch 8/15\n",
            "144/144 [==============================] - 38s 261ms/step - loss: 0.5382 - accuracy: 0.7359 - val_loss: 0.4963 - val_accuracy: 0.8143 - lr: 0.0010\n",
            "Epoch 9/15\n",
            "144/144 [==============================] - 37s 257ms/step - loss: 0.5280 - accuracy: 0.7515 - val_loss: 0.5038 - val_accuracy: 0.7600 - lr: 0.0010\n",
            "Epoch 10/15\n",
            "144/144 [==============================] - 42s 295ms/step - loss: 0.5159 - accuracy: 0.7607 - val_loss: 0.4923 - val_accuracy: 0.7543 - lr: 0.0010\n",
            "Epoch 11/15\n",
            "144/144 [==============================] - 38s 261ms/step - loss: 0.5177 - accuracy: 0.7504 - val_loss: 0.4851 - val_accuracy: 0.7814 - lr: 0.0010\n",
            "Epoch 12/15\n",
            "144/144 [==============================] - 38s 263ms/step - loss: 0.5033 - accuracy: 0.7589 - val_loss: 0.4703 - val_accuracy: 0.8300 - lr: 0.0010\n",
            "Epoch 13/15\n",
            "144/144 [==============================] - 38s 262ms/step - loss: 0.5090 - accuracy: 0.7535 - val_loss: 0.4726 - val_accuracy: 0.8071 - lr: 0.0010\n",
            "Epoch 14/15\n",
            "144/144 [==============================] - 36s 252ms/step - loss: 0.5017 - accuracy: 0.7698 - val_loss: 0.4699 - val_accuracy: 0.7914 - lr: 0.0010\n",
            "Epoch 15/15\n",
            "144/144 [==============================] - 37s 260ms/step - loss: 0.5009 - accuracy: 0.7528 - val_loss: 0.4763 - val_accuracy: 0.7857 - lr: 0.0010\n"
          ]
        }
      ]
    },
    {
      "cell_type": "code",
      "source": [
        "acc = [0.] + efficient_history_freeze.history['accuracy']\n",
        "val_acc = [0.] + efficient_history_freeze.history['val_accuracy']\n",
        "\n",
        "loss = efficient_history_freeze.history['loss']\n",
        "val_loss = efficient_history_freeze.history['val_loss']\n",
        "\n",
        "plt.figure(figsize=(8, 8))\n",
        "plt.subplot(2, 1, 1)\n",
        "plt.plot(acc, label='Training Accuracy')\n",
        "plt.plot(val_acc, label='Validation Accuracy')\n",
        "plt.legend(loc='lower right')\n",
        "plt.ylabel('Accuracy')\n",
        "plt.ylim([min(plt.ylim()),1])\n",
        "plt.title('Training and Validation Accuracy')\n",
        "\n",
        "plt.subplot(2, 1, 2)\n",
        "plt.plot(loss, label='Training Loss')\n",
        "plt.plot(val_loss, label='Validation Loss')\n",
        "plt.legend(loc='upper right')\n",
        "plt.ylabel('Cross Entropy')\n",
        "plt.ylim([0,2.0])\n",
        "plt.title('Training and Validation Loss')\n",
        "plt.xlabel('epoch')\n",
        "plt.show()"
      ],
      "metadata": {
        "id": "mFvFWk5tzM1m",
        "colab": {
          "base_uri": "https://localhost:8080/",
          "height": 718
        },
        "outputId": "fa31b038-a8ef-4983-dc6e-0a1ce0743dfc"
      },
      "execution_count": null,
      "outputs": [
        {
          "output_type": "display_data",
          "data": {
            "text/plain": [
              "<Figure size 800x800 with 2 Axes>"
            ],
            "image/png": "[encoded data removed]"
          },
          "metadata": {}
        }
      ]
    },
    {
      "cell_type": "code",
      "source": [
        "# base_efficient_model = efficient_model.layers[1]\n",
        "# base_efficient_model.trainable = True\n",
        "\n",
        "# fine_tune_at = 110\n",
        "\n",
        "# # Freeze all the layers before the `fine_tune_at` layer\n",
        "# for layer in base_efficient_model.layers[:fine_tune_at]:\n",
        "#     layer.trainable = False\n",
        "\n",
        "# optimizer = Adam(learning_rate = 0.1 * base_learning_rate)\n",
        "# loss = 'categorical_crossentropy'\n",
        "# metrics = ['accuracy']\n",
        "# callback = EarlyStopping(monitor='val_accuracy', patience=10, restore_best_weights=True)\n",
        "# reduce_lr = ReduceLROnPlateau(monitor='val_accuracy',factor=1e-1, patience=8, verbose=1, min_lr = 2e-6)\n",
        "\n",
        "# efficient_model.compile(optimizer = optimizer,\n",
        "#                         loss = loss,\n",
        "#                         metrics = metrics)"
      ],
      "metadata": {
        "id": "TZo90pozzO_l"
      },
      "execution_count": null,
      "outputs": []
    },
    {
      "cell_type": "code",
      "source": [
        "# fine_tune_epochs = 10 # Define the number of fine-tuning epochs\n",
        "# total_epochs =  10 + fine_tune_epochs # Calculate the total epochs for training (initial + fine-tuning)\n",
        "\n",
        "# efficient_history_fine = efficient_model.fit(\n",
        "#     train_gen,# Training data generator providing batches of training data\n",
        "#     epochs=total_epochs,  # Total number of epochs for training, including initial and fine-tuning epochs\n",
        "#     initial_epoch = efficient_history_freeze.epoch[-1],# Start training from the last epoch of the previous training (fine-tuning)\n",
        "#     callbacks=[callback, reduce_lr],  # List of callbacks: EarlyStopping and ReduceLROnPlateau\n",
        "#     validation_data=valid_gen,  # Validation data generator for model evaluation after each epoch\n",
        "#     shuffle=True  # Shuffle the training data before each epoch to avoid learning order dependencies\n",
        "# )"
      ],
      "metadata": {
        "id": "9JrsodKyzSgY",
        "colab": {
          "base_uri": "https://localhost:8080/",
          "height": 826
        },
        "outputId": "f39e5af0-4d9c-44d8-c3a0-e8482ce71d1d"
      },
      "execution_count": null,
      "outputs": [
        {
          "output_type": "stream",
          "name": "stdout",
          "text": [
            "Epoch 10/30\n",
            "144/144 [==============================] - 50s 308ms/step - loss: 1.1795 - accuracy: 0.5111 - val_loss: 0.6604 - val_accuracy: 0.7614 - lr: 1.0000e-04\n",
            "Epoch 11/30\n",
            "144/144 [==============================] - 41s 285ms/step - loss: 0.7197 - accuracy: 0.6087 - val_loss: 0.3387 - val_accuracy: 0.8829 - lr: 1.0000e-04\n",
            "Epoch 12/30\n",
            "144/144 [==============================] - 41s 285ms/step - loss: 0.3391 - accuracy: 0.8667 - val_loss: 0.2029 - val_accuracy: 0.9329 - lr: 1.0000e-04\n",
            "Epoch 13/30\n",
            "144/144 [==============================] - 41s 284ms/step - loss: 0.1667 - accuracy: 0.9385 - val_loss: 0.1992 - val_accuracy: 0.9243 - lr: 1.0000e-04\n",
            "Epoch 14/30\n",
            "144/144 [==============================] - 41s 283ms/step - loss: 0.1593 - accuracy: 0.9404 - val_loss: 0.1395 - val_accuracy: 0.9514 - lr: 1.0000e-04\n",
            "Epoch 15/30\n",
            "144/144 [==============================] - 41s 282ms/step - loss: 0.1143 - accuracy: 0.9602 - val_loss: 0.1054 - val_accuracy: 0.9686 - lr: 1.0000e-04\n",
            "Epoch 16/30\n",
            "144/144 [==============================] - 41s 282ms/step - loss: 0.0969 - accuracy: 0.9652 - val_loss: 0.0998 - val_accuracy: 0.9657 - lr: 1.0000e-04\n",
            "Epoch 17/30\n",
            "144/144 [==============================] - 41s 282ms/step - loss: 0.0757 - accuracy: 0.9741 - val_loss: 0.0910 - val_accuracy: 0.9700 - lr: 1.0000e-04\n",
            "Epoch 18/30\n",
            "144/144 [==============================] - 41s 283ms/step - loss: 0.0676 - accuracy: 0.9750 - val_loss: 0.0665 - val_accuracy: 0.9729 - lr: 1.0000e-04\n",
            "Epoch 19/30\n",
            "144/144 [==============================] - 41s 282ms/step - loss: 0.0625 - accuracy: 0.9785 - val_loss: 0.0808 - val_accuracy: 0.9729 - lr: 1.0000e-04\n",
            "Epoch 20/30\n",
            "144/144 [==============================] - 40s 281ms/step - loss: 0.0598 - accuracy: 0.9785 - val_loss: 0.0865 - val_accuracy: 0.9714 - lr: 1.0000e-04\n",
            "Epoch 21/30\n",
            " 38/144 [======>.......................] - ETA: 27s - loss: 0.0555 - accuracy: 0.9836"
          ]
        },
        {
          "output_type": "error",
          "ename": "KeyboardInterrupt",
          "evalue": "",
          "traceback": [
            "\u001b[0;31m---------------------------------------------------------------------------\u001b[0m",
            "\u001b[0;31mKeyboardInterrupt\u001b[0m                         Traceback (most recent call last)",
            "\u001b[0;32m<ipython-input-26-5d367981c178>\u001b[0m in \u001b[0;36m<cell line: 4>\u001b[0;34m()\u001b[0m\n\u001b[1;32m      2\u001b[0m \u001b[0mtotal_epochs\u001b[0m \u001b[0;34m=\u001b[0m  \u001b[0;36m10\u001b[0m \u001b[0;34m+\u001b[0m \u001b[0mfine_tune_epochs\u001b[0m \u001b[0;31m# Calculate the total epochs for training (initial + fine-tuning)\u001b[0m\u001b[0;34m\u001b[0m\u001b[0;34m\u001b[0m\u001b[0m\n\u001b[1;32m      3\u001b[0m \u001b[0;34m\u001b[0m\u001b[0m\n\u001b[0;32m----> 4\u001b[0;31m efficient_history_fine = efficient_model.fit(\n\u001b[0m\u001b[1;32m      5\u001b[0m     \u001b[0mtrain_gen\u001b[0m\u001b[0;34m,\u001b[0m\u001b[0;31m# Training data generator providing batches of training data\u001b[0m\u001b[0;34m\u001b[0m\u001b[0;34m\u001b[0m\u001b[0m\n\u001b[1;32m      6\u001b[0m     \u001b[0mepochs\u001b[0m\u001b[0;34m=\u001b[0m\u001b[0mtotal_epochs\u001b[0m\u001b[0;34m,\u001b[0m  \u001b[0;31m# Total number of epochs for training, including initial and fine-tuning epochs\u001b[0m\u001b[0;34m\u001b[0m\u001b[0;34m\u001b[0m\u001b[0m\n",
            "\u001b[0;32m/usr/local/lib/python3.10/dist-packages/keras/src/utils/traceback_utils.py\u001b[0m in \u001b[0;36merror_handler\u001b[0;34m(*args, **kwargs)\u001b[0m\n\u001b[1;32m     63\u001b[0m         \u001b[0mfiltered_tb\u001b[0m \u001b[0;34m=\u001b[0m \u001b[0;32mNone\u001b[0m\u001b[0;34m\u001b[0m\u001b[0;34m\u001b[0m\u001b[0m\n\u001b[1;32m     64\u001b[0m         \u001b[0;32mtry\u001b[0m\u001b[0;34m:\u001b[0m\u001b[0;34m\u001b[0m\u001b[0;34m\u001b[0m\u001b[0m\n\u001b[0;32m---> 65\u001b[0;31m             \u001b[0;32mreturn\u001b[0m \u001b[0mfn\u001b[0m\u001b[0;34m(\u001b[0m\u001b[0;34m*\u001b[0m\u001b[0margs\u001b[0m\u001b[0;34m,\u001b[0m \u001b[0;34m**\u001b[0m\u001b[0mkwargs\u001b[0m\u001b[0;34m)\u001b[0m\u001b[0;34m\u001b[0m\u001b[0;34m\u001b[0m\u001b[0m\n\u001b[0m\u001b[1;32m     66\u001b[0m         \u001b[0;32mexcept\u001b[0m \u001b[0mException\u001b[0m \u001b[0;32mas\u001b[0m \u001b[0me\u001b[0m\u001b[0;34m:\u001b[0m\u001b[0;34m\u001b[0m\u001b[0;34m\u001b[0m\u001b[0m\n\u001b[1;32m     67\u001b[0m             \u001b[0mfiltered_tb\u001b[0m \u001b[0;34m=\u001b[0m \u001b[0m_process_traceback_frames\u001b[0m\u001b[0;34m(\u001b[0m\u001b[0me\u001b[0m\u001b[0;34m.\u001b[0m\u001b[0m__traceback__\u001b[0m\u001b[0;34m)\u001b[0m\u001b[0;34m\u001b[0m\u001b[0;34m\u001b[0m\u001b[0m\n",
            "\u001b[0;32m/usr/local/lib/python3.10/dist-packages/keras/src/engine/training.py\u001b[0m in \u001b[0;36mfit\u001b[0;34m(self, x, y, batch_size, epochs, verbose, callbacks, validation_split, validation_data, shuffle, class_weight, sample_weight, initial_epoch, steps_per_epoch, validation_steps, validation_batch_size, validation_freq, max_queue_size, workers, use_multiprocessing)\u001b[0m\n\u001b[1;32m   1805\u001b[0m                         ):\n\u001b[1;32m   1806\u001b[0m                             \u001b[0mcallbacks\u001b[0m\u001b[0;34m.\u001b[0m\u001b[0mon_train_batch_begin\u001b[0m\u001b[0;34m(\u001b[0m\u001b[0mstep\u001b[0m\u001b[0;34m)\u001b[0m\u001b[0;34m\u001b[0m\u001b[0;34m\u001b[0m\u001b[0m\n\u001b[0;32m-> 1807\u001b[0;31m                             \u001b[0mtmp_logs\u001b[0m \u001b[0;34m=\u001b[0m \u001b[0mself\u001b[0m\u001b[0;34m.\u001b[0m\u001b[0mtrain_function\u001b[0m\u001b[0;34m(\u001b[0m\u001b[0miterator\u001b[0m\u001b[0;34m)\u001b[0m\u001b[0;34m\u001b[0m\u001b[0;34m\u001b[0m\u001b[0m\n\u001b[0m\u001b[1;32m   1808\u001b[0m                             \u001b[0;32mif\u001b[0m \u001b[0mdata_handler\u001b[0m\u001b[0;34m.\u001b[0m\u001b[0mshould_sync\u001b[0m\u001b[0;34m:\u001b[0m\u001b[0;34m\u001b[0m\u001b[0;34m\u001b[0m\u001b[0m\n\u001b[1;32m   1809\u001b[0m                                 \u001b[0mcontext\u001b[0m\u001b[0;34m.\u001b[0m\u001b[0masync_wait\u001b[0m\u001b[0;34m(\u001b[0m\u001b[0;34m)\u001b[0m\u001b[0;34m\u001b[0m\u001b[0;34m\u001b[0m\u001b[0m\n",
            "\u001b[0;32m/usr/local/lib/python3.10/dist-packages/tensorflow/python/util/traceback_utils.py\u001b[0m in \u001b[0;36merror_handler\u001b[0;34m(*args, **kwargs)\u001b[0m\n\u001b[1;32m    148\u001b[0m     \u001b[0mfiltered_tb\u001b[0m \u001b[0;34m=\u001b[0m \u001b[0;32mNone\u001b[0m\u001b[0;34m\u001b[0m\u001b[0;34m\u001b[0m\u001b[0m\n\u001b[1;32m    149\u001b[0m     \u001b[0;32mtry\u001b[0m\u001b[0;34m:\u001b[0m\u001b[0;34m\u001b[0m\u001b[0;34m\u001b[0m\u001b[0m\n\u001b[0;32m--> 150\u001b[0;31m       \u001b[0;32mreturn\u001b[0m \u001b[0mfn\u001b[0m\u001b[0;34m(\u001b[0m\u001b[0;34m*\u001b[0m\u001b[0margs\u001b[0m\u001b[0;34m,\u001b[0m \u001b[0;34m**\u001b[0m\u001b[0mkwargs\u001b[0m\u001b[0;34m)\u001b[0m\u001b[0;34m\u001b[0m\u001b[0;34m\u001b[0m\u001b[0m\n\u001b[0m\u001b[1;32m    151\u001b[0m     \u001b[0;32mexcept\u001b[0m \u001b[0mException\u001b[0m \u001b[0;32mas\u001b[0m \u001b[0me\u001b[0m\u001b[0;34m:\u001b[0m\u001b[0;34m\u001b[0m\u001b[0;34m\u001b[0m\u001b[0m\n\u001b[1;32m    152\u001b[0m       \u001b[0mfiltered_tb\u001b[0m \u001b[0;34m=\u001b[0m \u001b[0m_process_traceback_frames\u001b[0m\u001b[0;34m(\u001b[0m\u001b[0me\u001b[0m\u001b[0;34m.\u001b[0m\u001b[0m__traceback__\u001b[0m\u001b[0;34m)\u001b[0m\u001b[0;34m\u001b[0m\u001b[0;34m\u001b[0m\u001b[0m\n",
            "\u001b[0;32m/usr/local/lib/python3.10/dist-packages/tensorflow/python/eager/polymorphic_function/polymorphic_function.py\u001b[0m in \u001b[0;36m__call__\u001b[0;34m(self, *args, **kwds)\u001b[0m\n\u001b[1;32m    830\u001b[0m \u001b[0;34m\u001b[0m\u001b[0m\n\u001b[1;32m    831\u001b[0m       \u001b[0;32mwith\u001b[0m \u001b[0mOptionalXlaContext\u001b[0m\u001b[0;34m(\u001b[0m\u001b[0mself\u001b[0m\u001b[0;34m.\u001b[0m\u001b[0m_jit_compile\u001b[0m\u001b[0;34m)\u001b[0m\u001b[0;34m:\u001b[0m\u001b[0;34m\u001b[0m\u001b[0;34m\u001b[0m\u001b[0m\n\u001b[0;32m--> 832\u001b[0;31m         \u001b[0mresult\u001b[0m \u001b[0;34m=\u001b[0m \u001b[0mself\u001b[0m\u001b[0;34m.\u001b[0m\u001b[0m_call\u001b[0m\u001b[0;34m(\u001b[0m\u001b[0;34m*\u001b[0m\u001b[0margs\u001b[0m\u001b[0;34m,\u001b[0m \u001b[0;34m**\u001b[0m\u001b[0mkwds\u001b[0m\u001b[0;34m)\u001b[0m\u001b[0;34m\u001b[0m\u001b[0;34m\u001b[0m\u001b[0m\n\u001b[0m\u001b[1;32m    833\u001b[0m \u001b[0;34m\u001b[0m\u001b[0m\n\u001b[1;32m    834\u001b[0m       \u001b[0mnew_tracing_count\u001b[0m \u001b[0;34m=\u001b[0m \u001b[0mself\u001b[0m\u001b[0;34m.\u001b[0m\u001b[0mexperimental_get_tracing_count\u001b[0m\u001b[0;34m(\u001b[0m\u001b[0;34m)\u001b[0m\u001b[0;34m\u001b[0m\u001b[0;34m\u001b[0m\u001b[0m\n",
            "\u001b[0;32m/usr/local/lib/python3.10/dist-packages/tensorflow/python/eager/polymorphic_function/polymorphic_function.py\u001b[0m in \u001b[0;36m_call\u001b[0;34m(self, *args, **kwds)\u001b[0m\n\u001b[1;32m    866\u001b[0m       \u001b[0;31m# In this case we have created variables on the first call, so we run the\u001b[0m\u001b[0;34m\u001b[0m\u001b[0;34m\u001b[0m\u001b[0m\n\u001b[1;32m    867\u001b[0m       \u001b[0;31m# defunned version which is guaranteed to never create variables.\u001b[0m\u001b[0;34m\u001b[0m\u001b[0;34m\u001b[0m\u001b[0m\n\u001b[0;32m--> 868\u001b[0;31m       return tracing_compilation.call_function(\n\u001b[0m\u001b[1;32m    869\u001b[0m           \u001b[0margs\u001b[0m\u001b[0;34m,\u001b[0m \u001b[0mkwds\u001b[0m\u001b[0;34m,\u001b[0m \u001b[0mself\u001b[0m\u001b[0;34m.\u001b[0m\u001b[0m_no_variable_creation_config\u001b[0m\u001b[0;34m\u001b[0m\u001b[0;34m\u001b[0m\u001b[0m\n\u001b[1;32m    870\u001b[0m       )\n",
            "\u001b[0;32m/usr/local/lib/python3.10/dist-packages/tensorflow/python/eager/polymorphic_function/tracing_compilation.py\u001b[0m in \u001b[0;36mcall_function\u001b[0;34m(args, kwargs, tracing_options)\u001b[0m\n\u001b[1;32m    137\u001b[0m   \u001b[0mbound_args\u001b[0m \u001b[0;34m=\u001b[0m \u001b[0mfunction\u001b[0m\u001b[0;34m.\u001b[0m\u001b[0mfunction_type\u001b[0m\u001b[0;34m.\u001b[0m\u001b[0mbind\u001b[0m\u001b[0;34m(\u001b[0m\u001b[0;34m*\u001b[0m\u001b[0margs\u001b[0m\u001b[0;34m,\u001b[0m \u001b[0;34m**\u001b[0m\u001b[0mkwargs\u001b[0m\u001b[0;34m)\u001b[0m\u001b[0;34m\u001b[0m\u001b[0;34m\u001b[0m\u001b[0m\n\u001b[1;32m    138\u001b[0m   \u001b[0mflat_inputs\u001b[0m \u001b[0;34m=\u001b[0m \u001b[0mfunction\u001b[0m\u001b[0;34m.\u001b[0m\u001b[0mfunction_type\u001b[0m\u001b[0;34m.\u001b[0m\u001b[0munpack_inputs\u001b[0m\u001b[0;34m(\u001b[0m\u001b[0mbound_args\u001b[0m\u001b[0;34m)\u001b[0m\u001b[0;34m\u001b[0m\u001b[0;34m\u001b[0m\u001b[0m\n\u001b[0;32m--> 139\u001b[0;31m   return function._call_flat(  # pylint: disable=protected-access\n\u001b[0m\u001b[1;32m    140\u001b[0m       \u001b[0mflat_inputs\u001b[0m\u001b[0;34m,\u001b[0m \u001b[0mcaptured_inputs\u001b[0m\u001b[0;34m=\u001b[0m\u001b[0mfunction\u001b[0m\u001b[0;34m.\u001b[0m\u001b[0mcaptured_inputs\u001b[0m\u001b[0;34m\u001b[0m\u001b[0;34m\u001b[0m\u001b[0m\n\u001b[1;32m    141\u001b[0m   )\n",
            "\u001b[0;32m/usr/local/lib/python3.10/dist-packages/tensorflow/python/eager/polymorphic_function/concrete_function.py\u001b[0m in \u001b[0;36m_call_flat\u001b[0;34m(self, tensor_inputs, captured_inputs)\u001b[0m\n\u001b[1;32m   1321\u001b[0m         and executing_eagerly):\n\u001b[1;32m   1322\u001b[0m       \u001b[0;31m# No tape is watching; skip to running the function.\u001b[0m\u001b[0;34m\u001b[0m\u001b[0;34m\u001b[0m\u001b[0m\n\u001b[0;32m-> 1323\u001b[0;31m       \u001b[0;32mreturn\u001b[0m \u001b[0mself\u001b[0m\u001b[0;34m.\u001b[0m\u001b[0m_inference_function\u001b[0m\u001b[0;34m.\u001b[0m\u001b[0mcall_preflattened\u001b[0m\u001b[0;34m(\u001b[0m\u001b[0margs\u001b[0m\u001b[0;34m)\u001b[0m\u001b[0;34m\u001b[0m\u001b[0;34m\u001b[0m\u001b[0m\n\u001b[0m\u001b[1;32m   1324\u001b[0m     forward_backward = self._select_forward_and_backward_functions(\n\u001b[1;32m   1325\u001b[0m         \u001b[0margs\u001b[0m\u001b[0;34m,\u001b[0m\u001b[0;34m\u001b[0m\u001b[0;34m\u001b[0m\u001b[0m\n",
            "\u001b[0;32m/usr/local/lib/python3.10/dist-packages/tensorflow/python/eager/polymorphic_function/atomic_function.py\u001b[0m in \u001b[0;36mcall_preflattened\u001b[0;34m(self, args)\u001b[0m\n\u001b[1;32m    214\u001b[0m   \u001b[0;32mdef\u001b[0m \u001b[0mcall_preflattened\u001b[0m\u001b[0;34m(\u001b[0m\u001b[0mself\u001b[0m\u001b[0;34m,\u001b[0m \u001b[0margs\u001b[0m\u001b[0;34m:\u001b[0m \u001b[0mSequence\u001b[0m\u001b[0;34m[\u001b[0m\u001b[0mcore\u001b[0m\u001b[0;34m.\u001b[0m\u001b[0mTensor\u001b[0m\u001b[0;34m]\u001b[0m\u001b[0;34m)\u001b[0m \u001b[0;34m->\u001b[0m \u001b[0mAny\u001b[0m\u001b[0;34m:\u001b[0m\u001b[0;34m\u001b[0m\u001b[0;34m\u001b[0m\u001b[0m\n\u001b[1;32m    215\u001b[0m     \u001b[0;34m\"\"\"Calls with flattened tensor inputs and returns the structured output.\"\"\"\u001b[0m\u001b[0;34m\u001b[0m\u001b[0;34m\u001b[0m\u001b[0m\n\u001b[0;32m--> 216\u001b[0;31m     \u001b[0mflat_outputs\u001b[0m \u001b[0;34m=\u001b[0m \u001b[0mself\u001b[0m\u001b[0;34m.\u001b[0m\u001b[0mcall_flat\u001b[0m\u001b[0;34m(\u001b[0m\u001b[0;34m*\u001b[0m\u001b[0margs\u001b[0m\u001b[0;34m)\u001b[0m\u001b[0;34m\u001b[0m\u001b[0;34m\u001b[0m\u001b[0m\n\u001b[0m\u001b[1;32m    217\u001b[0m     \u001b[0;32mreturn\u001b[0m \u001b[0mself\u001b[0m\u001b[0;34m.\u001b[0m\u001b[0mfunction_type\u001b[0m\u001b[0;34m.\u001b[0m\u001b[0mpack_output\u001b[0m\u001b[0;34m(\u001b[0m\u001b[0mflat_outputs\u001b[0m\u001b[0;34m)\u001b[0m\u001b[0;34m\u001b[0m\u001b[0;34m\u001b[0m\u001b[0m\n\u001b[1;32m    218\u001b[0m \u001b[0;34m\u001b[0m\u001b[0m\n",
            "\u001b[0;32m/usr/local/lib/python3.10/dist-packages/tensorflow/python/eager/polymorphic_function/atomic_function.py\u001b[0m in \u001b[0;36mcall_flat\u001b[0;34m(self, *args)\u001b[0m\n\u001b[1;32m    249\u001b[0m         \u001b[0;32mwith\u001b[0m \u001b[0mrecord\u001b[0m\u001b[0;34m.\u001b[0m\u001b[0mstop_recording\u001b[0m\u001b[0;34m(\u001b[0m\u001b[0;34m)\u001b[0m\u001b[0;34m:\u001b[0m\u001b[0;34m\u001b[0m\u001b[0;34m\u001b[0m\u001b[0m\n\u001b[1;32m    250\u001b[0m           \u001b[0;32mif\u001b[0m \u001b[0mself\u001b[0m\u001b[0;34m.\u001b[0m\u001b[0m_bound_context\u001b[0m\u001b[0;34m.\u001b[0m\u001b[0mexecuting_eagerly\u001b[0m\u001b[0;34m(\u001b[0m\u001b[0;34m)\u001b[0m\u001b[0;34m:\u001b[0m\u001b[0;34m\u001b[0m\u001b[0;34m\u001b[0m\u001b[0m\n\u001b[0;32m--> 251\u001b[0;31m             outputs = self._bound_context.call_function(\n\u001b[0m\u001b[1;32m    252\u001b[0m                 \u001b[0mself\u001b[0m\u001b[0;34m.\u001b[0m\u001b[0mname\u001b[0m\u001b[0;34m,\u001b[0m\u001b[0;34m\u001b[0m\u001b[0;34m\u001b[0m\u001b[0m\n\u001b[1;32m    253\u001b[0m                 \u001b[0mlist\u001b[0m\u001b[0;34m(\u001b[0m\u001b[0margs\u001b[0m\u001b[0;34m)\u001b[0m\u001b[0;34m,\u001b[0m\u001b[0;34m\u001b[0m\u001b[0;34m\u001b[0m\u001b[0m\n",
            "\u001b[0;32m/usr/local/lib/python3.10/dist-packages/tensorflow/python/eager/context.py\u001b[0m in \u001b[0;36mcall_function\u001b[0;34m(self, name, tensor_inputs, num_outputs)\u001b[0m\n\u001b[1;32m   1484\u001b[0m     \u001b[0mcancellation_context\u001b[0m \u001b[0;34m=\u001b[0m \u001b[0mcancellation\u001b[0m\u001b[0;34m.\u001b[0m\u001b[0mcontext\u001b[0m\u001b[0;34m(\u001b[0m\u001b[0;34m)\u001b[0m\u001b[0;34m\u001b[0m\u001b[0;34m\u001b[0m\u001b[0m\n\u001b[1;32m   1485\u001b[0m     \u001b[0;32mif\u001b[0m \u001b[0mcancellation_context\u001b[0m \u001b[0;32mis\u001b[0m \u001b[0;32mNone\u001b[0m\u001b[0;34m:\u001b[0m\u001b[0;34m\u001b[0m\u001b[0;34m\u001b[0m\u001b[0m\n\u001b[0;32m-> 1486\u001b[0;31m       outputs = execute.execute(\n\u001b[0m\u001b[1;32m   1487\u001b[0m           \u001b[0mname\u001b[0m\u001b[0;34m.\u001b[0m\u001b[0mdecode\u001b[0m\u001b[0;34m(\u001b[0m\u001b[0;34m\"utf-8\"\u001b[0m\u001b[0;34m)\u001b[0m\u001b[0;34m,\u001b[0m\u001b[0;34m\u001b[0m\u001b[0;34m\u001b[0m\u001b[0m\n\u001b[1;32m   1488\u001b[0m           \u001b[0mnum_outputs\u001b[0m\u001b[0;34m=\u001b[0m\u001b[0mnum_outputs\u001b[0m\u001b[0;34m,\u001b[0m\u001b[0;34m\u001b[0m\u001b[0;34m\u001b[0m\u001b[0m\n",
            "\u001b[0;32m/usr/local/lib/python3.10/dist-packages/tensorflow/python/eager/execute.py\u001b[0m in \u001b[0;36mquick_execute\u001b[0;34m(op_name, num_outputs, inputs, attrs, ctx, name)\u001b[0m\n\u001b[1;32m     51\u001b[0m   \u001b[0;32mtry\u001b[0m\u001b[0;34m:\u001b[0m\u001b[0;34m\u001b[0m\u001b[0;34m\u001b[0m\u001b[0m\n\u001b[1;32m     52\u001b[0m     \u001b[0mctx\u001b[0m\u001b[0;34m.\u001b[0m\u001b[0mensure_initialized\u001b[0m\u001b[0;34m(\u001b[0m\u001b[0;34m)\u001b[0m\u001b[0;34m\u001b[0m\u001b[0;34m\u001b[0m\u001b[0m\n\u001b[0;32m---> 53\u001b[0;31m     tensors = pywrap_tfe.TFE_Py_Execute(ctx._handle, device_name, op_name,\n\u001b[0m\u001b[1;32m     54\u001b[0m                                         inputs, attrs, num_outputs)\n\u001b[1;32m     55\u001b[0m   \u001b[0;32mexcept\u001b[0m \u001b[0mcore\u001b[0m\u001b[0;34m.\u001b[0m\u001b[0m_NotOkStatusException\u001b[0m \u001b[0;32mas\u001b[0m \u001b[0me\u001b[0m\u001b[0;34m:\u001b[0m\u001b[0;34m\u001b[0m\u001b[0;34m\u001b[0m\u001b[0m\n",
            "\u001b[0;31mKeyboardInterrupt\u001b[0m: "
          ]
        }
      ]
    },
    {
      "cell_type": "code",
      "source": [
        "# acc = [0.] + efficient_history_fine.history['accuracy']\n",
        "# val_acc = [0.] + efficient_history_fine.history['val_accuracy']\n",
        "\n",
        "# loss = efficient_history_fine.history['loss']\n",
        "# val_loss = efficient_history_fine.history['val_loss']\n",
        "\n",
        "# plt.figure(figsize=(8, 8))\n",
        "# plt.subplot(2, 1, 1)\n",
        "# plt.plot(acc, label='Training Accuracy')\n",
        "# plt.plot(val_acc, label='Validation Accuracy')\n",
        "# plt.legend(loc='lower right')\n",
        "# plt.ylabel('Accuracy')\n",
        "# plt.ylim([min(plt.ylim()),1])\n",
        "# plt.title('Training and Validation Accuracy')\n",
        "\n",
        "# plt.subplot(2, 1, 2)\n",
        "# plt.plot(loss, label='Training Loss')\n",
        "# plt.plot(val_loss, label='Validation Loss')\n",
        "# plt.legend(loc='upper right')\n",
        "# plt.ylabel('Cross Entropy')\n",
        "# plt.ylim([0,3.0])\n",
        "# plt.title('Training and Validation Loss')\n",
        "# plt.xlabel('epoch')\n",
        "# plt.show()"
      ],
      "metadata": {
        "id": "ku5Jv8HCzUG8"
      },
      "execution_count": null,
      "outputs": []
    },
    {
      "cell_type": "code",
      "source": [
        "efficient_model.save('/content/drive/MyDrive/rp/efficient/3.h5')"
      ],
      "metadata": {
        "id": "5htRtl7BzWOi"
      },
      "execution_count": null,
      "outputs": []
    },
    {
      "cell_type": "markdown",
      "source": [
        "hybrid"
      ],
      "metadata": {
        "id": "gyT1clSUzXa4"
      }
    },
    {
      "cell_type": "code",
      "source": [
        "# Load the pre-trained models\n",
        "inception_model = load_model('/content/drive/MyDrive/rp/inception/3.keras')\n",
        "efficient_model = load_model('/content/drive/MyDrive/rp/efficient/3.keras')"
      ],
      "metadata": {
        "id": "hHEZJdPOzZ3w"
      },
      "execution_count": null,
      "outputs": []
    },
    {
      "cell_type": "code",
      "source": [
        "input_shape = (IMAGE_SIZE, IMAGE_SIZE, CHANNELS)\n",
        "n_classes = 2\n",
        "\n",
        "def inception_efficient_hybrid_model():\n",
        "    # Create an input layer for the hybrid model\n",
        "    input_layer = Input(shape=input_shape, name='input_layer')\n",
        "\n",
        "    # Get the output from the custom CNN model\n",
        "    inception_output = inception_model(input_layer)\n",
        "\n",
        "    # Get the output from the MobileNet model\n",
        "    efficient_output = efficient_model(input_layer)\n",
        "\n",
        "    # Concatenate the outputs from both models\n",
        "    concatenated_outputs = Concatenate()([inception_output, efficient_output])\n",
        "\n",
        "    # Dense layers with dropout for regularization\n",
        "    dense_layer1 = Dense(128, activation='relu')(concatenated_outputs)\n",
        "    dropout1 = Dropout(0.5)(dense_layer1)\n",
        "\n",
        "    dense_layer2 = Dense(64, activation='relu')(dropout1)\n",
        "    dropout2 = Dropout(0.3)(dense_layer2)\n",
        "\n",
        "    output_layer = Dense(n_classes, activation='softmax', name='output_layer')(dropout2)\n",
        "\n",
        "    # Create the hybrid model\n",
        "    inception_efficient_hybrid_model = Model(inputs=input_layer, outputs=output_layer, name='inception_efficient_hybrid_model')\n",
        "\n",
        "    # Compile the model\n",
        "    inception_efficient_hybrid_model.compile(\n",
        "        optimizer=Adam(learning_rate=0.001),\n",
        "        loss=CategoricalCrossentropy(),\n",
        "        metrics=['accuracy']\n",
        "    )\n",
        "\n",
        "    # Display model summary\n",
        "    inception_efficient_hybrid_model.summary()\n",
        "\n",
        "    return inception_efficient_hybrid_model"
      ],
      "metadata": {
        "id": "xqMXZhXdzcjz"
      },
      "execution_count": null,
      "outputs": []
    },
    {
      "cell_type": "code",
      "source": [
        "def train_inception_efficient_hybrid_model(model):\n",
        "    # Early Stopping\n",
        "    early_stopping = callbacks.EarlyStopping(monitor='val_loss', patience=20, restore_best_weights=True)\n",
        "\n",
        "    # Reduce the learning rate when a model has stopped improving.\n",
        "    learning_rate_reduction = callbacks.ReduceLROnPlateau(monitor='val_loss', patience=12, verbose=1, factor=0.5, min_lr=0.00001)\n",
        "\n",
        "    history = callbacks.History()\n",
        "\n",
        "    model.fit(\n",
        "        train_gen,\n",
        "        batch_size=BATCH_SIZE,\n",
        "        validation_data=valid_gen,\n",
        "        verbose=1,\n",
        "        epochs=8,\n",
        "        callbacks=[early_stopping, learning_rate_reduction, history]\n",
        "    )\n",
        "\n",
        "    model.save('/content/drive/MyDrive/rp/hybrid/3.keras')\n",
        "\n",
        "    return model"
      ],
      "metadata": {
        "id": "zwd5P-4dAiXn"
      },
      "execution_count": null,
      "outputs": []
    },
    {
      "cell_type": "code",
      "source": [
        "# Define the model\n",
        "inception_efficient_hybrid_model = inception_efficient_hybrid_model()\n",
        "# Train the model\n",
        "train_inception_efficient_hybrid_model(inception_efficient_hybrid_model)"
      ],
      "metadata": {
        "id": "IKkCIipPzeap",
        "colab": {
          "base_uri": "https://localhost:8080/"
        },
        "outputId": "4ebaa8c4-b692-4ebd-c7ad-38b1093df670"
      },
      "execution_count": null,
      "outputs": [
        {
          "output_type": "stream",
          "name": "stdout",
          "text": [
            "Model: \"inception_efficient_hybrid_model\"\n",
            "__________________________________________________________________________________________________\n",
            " Layer (type)                Output Shape                 Param #   Connected to                  \n",
            "==================================================================================================\n",
            " input_layer (InputLayer)    [(None, 128, 128, 3)]        0         []                            \n",
            "                                                                                                  \n",
            " model (Functional)          (None, 2)                    2180688   ['input_layer[0][0]']         \n",
            "                                                          2                                       \n",
            "                                                                                                  \n",
            " model_1 (Functional)        (None, 2)                    1078660   ['input_layer[0][0]']         \n",
            "                                                          9                                       \n",
            "                                                                                                  \n",
            " concatenate_2 (Concatenate  (None, 4)                    0         ['model[0][0]',               \n",
            " )                                                                   'model_1[0][0]']             \n",
            "                                                                                                  \n",
            " dense_2 (Dense)             (None, 128)                  640       ['concatenate_2[0][0]']       \n",
            "                                                                                                  \n",
            " dropout_4 (Dropout)         (None, 128)                  0         ['dense_2[0][0]']             \n",
            "                                                                                                  \n",
            " dense_3 (Dense)             (None, 64)                   8256      ['dropout_4[0][0]']           \n",
            "                                                                                                  \n",
            " dropout_5 (Dropout)         (None, 64)                   0         ['dense_3[0][0]']             \n",
            "                                                                                                  \n",
            " output_layer (Dense)        (None, 2)                    130       ['dropout_5[0][0]']           \n",
            "                                                                                                  \n",
            "==================================================================================================\n",
            "Total params: 32602517 (124.37 MB)\n",
            "Trainable params: 16198 (63.27 KB)\n",
            "Non-trainable params: 32586319 (124.31 MB)\n",
            "__________________________________________________________________________________________________\n",
            "Epoch 1/8\n",
            "144/144 [==============================] - 60s 316ms/step - loss: 0.2130 - accuracy: 0.9533 - val_loss: 0.0559 - val_accuracy: 0.9857 - lr: 0.0010\n",
            "Epoch 2/8\n",
            "144/144 [==============================] - 41s 282ms/step - loss: 0.0987 - accuracy: 0.9767 - val_loss: 0.0630 - val_accuracy: 0.9857 - lr: 0.0010\n",
            "Epoch 3/8\n",
            "144/144 [==============================] - 40s 280ms/step - loss: 0.0906 - accuracy: 0.9785 - val_loss: 0.0390 - val_accuracy: 0.9914 - lr: 0.0010\n",
            "Epoch 4/8\n",
            "144/144 [==============================] - 40s 278ms/step - loss: 0.1035 - accuracy: 0.9754 - val_loss: 0.0803 - val_accuracy: 0.9814 - lr: 0.0010\n",
            "Epoch 5/8\n",
            "144/144 [==============================] - 40s 278ms/step - loss: 0.0891 - accuracy: 0.9793 - val_loss: 0.0434 - val_accuracy: 0.9886 - lr: 0.0010\n",
            "Epoch 6/8\n",
            "144/144 [==============================] - 40s 276ms/step - loss: 0.0770 - accuracy: 0.9824 - val_loss: 0.0702 - val_accuracy: 0.9814 - lr: 0.0010\n",
            "Epoch 7/8\n",
            "144/144 [==============================] - 40s 276ms/step - loss: 0.0701 - accuracy: 0.9820 - val_loss: 0.0606 - val_accuracy: 0.9857 - lr: 0.0010\n",
            "Epoch 8/8\n",
            "144/144 [==============================] - 40s 278ms/step - loss: 0.0905 - accuracy: 0.9757 - val_loss: 0.0443 - val_accuracy: 0.9886 - lr: 0.0010\n"
          ]
        },
        {
          "output_type": "execute_result",
          "data": {
            "text/plain": [
              "<keras.src.engine.functional.Functional at 0x78307746b550>"
            ]
          },
          "metadata": {},
          "execution_count": 46
        }
      ]
    },
    {
      "cell_type": "code",
      "source": [
        "acc = [0.] + inception_efficient_hybrid_model.history.history['accuracy']\n",
        "val_acc = [0.] + inception_efficient_hybrid_model.history.history['val_accuracy']\n",
        "\n",
        "loss = inception_efficient_hybrid_model.history.history['loss']\n",
        "val_loss = inception_efficient_hybrid_model.history.history['val_loss']\n",
        "\n",
        "plt.figure(figsize=(8, 8))\n",
        "plt.subplot(2, 1, 1)\n",
        "plt.plot(acc, label='Training Accuracy')\n",
        "plt.plot(val_acc, label='Validation Accuracy')\n",
        "plt.legend(loc='lower right')\n",
        "plt.ylabel('Accuracy')\n",
        "plt.ylim([min(plt.ylim()),1])\n",
        "plt.title('Training and Validation Accuracy')\n",
        "\n",
        "plt.subplot(2, 1, 2)\n",
        "plt.plot(loss, label='Training Loss')\n",
        "plt.plot(val_loss, label='Validation Loss')\n",
        "plt.legend(loc='upper right')\n",
        "plt.ylabel('Cross Entropy')\n",
        "plt.ylim([0,2.0])\n",
        "plt.title('Training and Validation Loss')\n",
        "plt.xlabel('epoch')\n",
        "plt.show()"
      ],
      "metadata": {
        "id": "XS4BqxvPzf-0",
        "colab": {
          "base_uri": "https://localhost:8080/",
          "height": 718
        },
        "outputId": "6c2aa0b3-8025-4878-a4fc-8324b855a254"
      },
      "execution_count": null,
      "outputs": [
        {
          "output_type": "display_data",
          "data": {
            "text/plain": [
              "<Figure size 800x800 with 2 Axes>"
            ],
            "image/png": "[encoded data removed]"
          },
          "metadata": {}
        }
      ]
    }
  ]
}