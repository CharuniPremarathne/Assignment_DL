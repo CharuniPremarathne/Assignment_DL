{
  "nbformat": 4,
  "nbformat_minor": 0,
  "metadata": {
    "colab": {
      "provenance": [],
      "include_colab_link": true
    },
    "kernelspec": {
      "name": "python3",
      "display_name": "Python 3"
    },
    "language_info": {
      "name": "python"
    }
  },
  "cells": [
    {
      "cell_type": "markdown",
      "metadata": {
        "id": "view-in-github",
        "colab_type": "text"
      },
      "source": [
        "<a href=\"https://colab.research.google.com/github/CharuniPremarathne/Assignment_DL/blob/main/Mask_RCNN.ipynb\" target=\"_parent\"><img src=\"https://colab.research.google.com/assets/colab-badge.svg\" alt=\"Open In Colab\"/></a>"
      ]
    },
    {
      "cell_type": "markdown",
      "source": [
        "**Downloading Kaggle Data sets directory into Colab**"
      ],
      "metadata": {
        "id": "tHBQ2t6t9U-3"
      }
    },
    {
      "cell_type": "code",
      "source": [
        "pip install kaggle"
      ],
      "metadata": {
        "id": "x7_fisVQ9cdL"
      },
      "execution_count": null,
      "outputs": []
    },
    {
      "cell_type": "code",
      "source": [
        "from google.colab import drive\n",
        "drive.mount('/content/drive')"
      ],
      "metadata": {
        "id": "DbI5jnl-98TL"
      },
      "execution_count": null,
      "outputs": []
    },
    {
      "cell_type": "code",
      "source": [
        "mkdir ~/.kaggle          #create a hidden folder in root directory"
      ],
      "metadata": {
        "id": "SVdKzr-jDExT"
      },
      "execution_count": null,
      "outputs": []
    },
    {
      "cell_type": "code",
      "source": [
        "cp /content/......... /kaggle.json ~/.kaggle/kaggle.json"
      ],
      "metadata": {
        "id": "mSUxeZSaJm8N"
      },
      "execution_count": null,
      "outputs": []
    },
    {
      "cell_type": "markdown",
      "source": [
        "Change the file permissions to read/write to the owner only"
      ],
      "metadata": {
        "id": "Wl4jn_oZKMSb"
      }
    },
    {
      "cell_type": "code",
      "source": [
        "chmod 600 ~/.kaggle/kaggle.json"
      ],
      "metadata": {
        "id": "mAjdPfNEJ1oA"
      },
      "execution_count": null,
      "outputs": []
    },
    {
      "cell_type": "markdown",
      "source": [
        "Downloading data sets"
      ],
      "metadata": {
        "id": "L_BTEavdKkZr"
      }
    },
    {
      "cell_type": "code",
      "source": [
        "kaggle datasets download hamishcrazeai/maize-in-field-dataset"
      ],
      "metadata": {
        "id": "oMLZFrPRMm5z"
      },
      "execution_count": null,
      "outputs": []
    },
    {
      "cell_type": "markdown",
      "source": [
        "Model Training"
      ],
      "metadata": {
        "id": "M5yy6hbokmjX"
      }
    },
    {
      "cell_type": "code",
      "source": [
        "!git clone https://github.com/matterport/Mask_RCNN.git"
      ],
      "metadata": {
        "id": "MOAxdmVWoVg_",
        "outputId": "7b1d96d4-4996-4e51-9ad1-0e5f1f5751d2",
        "colab": {
          "base_uri": "https://localhost:8080/"
        }
      },
      "execution_count": 8,
      "outputs": [
        {
          "output_type": "stream",
          "name": "stdout",
          "text": [
            "Cloning into 'Mask_RCNN'...\n",
            "remote: Enumerating objects: 956, done.\u001b[K\n",
            "remote: Total 956 (delta 0), reused 0 (delta 0), pack-reused 956\u001b[K\n",
            "Receiving objects: 100% (956/956), 137.67 MiB | 28.47 MiB/s, done.\n",
            "Resolving deltas: 100% (558/558), done.\n"
          ]
        }
      ]
    },
    {
      "cell_type": "code",
      "source": [
        "import os\n",
        "os.chdir('Mask_RCNN/samples')"
      ],
      "metadata": {
        "id": "GzYbvqDXrFCN"
      },
      "execution_count": 9,
      "outputs": []
    },
    {
      "cell_type": "code",
      "source": [
        "import sys"
      ],
      "metadata": {
        "id": "uvGt948JnGeH"
      },
      "execution_count": 4,
      "outputs": []
    },
    {
      "cell_type": "code",
      "source": [
        "ROOT_DIR = os.path.abspath(\"../\")"
      ],
      "metadata": {
        "id": "qEGCgFTbnQEA"
      },
      "execution_count": 12,
      "outputs": []
    },
    {
      "cell_type": "code",
      "source": [
        "sys.path.append(ROOT_DIR)\n",
        "from Mask_RCNN.mrcnn import utils\n"
      ],
      "metadata": {
        "id": "ZxSuW7EMn6FP"
      },
      "execution_count": 13,
      "outputs": []
    },
    {
      "cell_type": "code",
      "source": [
        "from os import listdir\n",
        "from xml.etree import ElementTree\n",
        "from numpy import zeros\n",
        "from numpy import asarray\n",
        "from Mask_RCNN.mrcnn.utils import Dataset\n",
        "from matplotlib import pyplot\n",
        "from Mask_RCNN.mrcnn.visualize import display_instances\n",
        "from Mask_RCNN.mrcnn.utils import extract_bboxes\n",
        "\n",
        "from Mask_RCNN.mrcnn.config import Config\n",
        "#from Mask_RCNN.mrcnn.model import MaskRCNN\n"
      ],
      "metadata": {
        "id": "WMoetTjuksqH"
      },
      "execution_count": 15,
      "outputs": []
    },
    {
      "cell_type": "markdown",
      "source": [
        "**Load the Dataset**"
      ],
      "metadata": {
        "id": "e-Moh2Tm4qoZ"
      }
    },
    {
      "cell_type": "code",
      "source": [
        "class AppleLeafDataset(Dataset):\n",
        "    # load the dataset definitions\n",
        "    def load_dataset(self, dataset_dir, is_train=True):\n",
        "        # define classes\n",
        "        self.add_class(\"dataset\", 1, \"Black Rot\")\n",
        "        self.add_class(\"dataset\", 2, \"Apple Scab\")\n",
        "        self.add_class(\"dataset\", 3, \"Cedar Apple\")\n",
        "\n",
        "        # define data locations\n",
        "        images_dir = dataset_dir + '/images/'\n",
        "        annotations_dir = dataset_dir + '/annots/'\n",
        "\n",
        "\n",
        "\t\t# find all images\n",
        "        for filename in listdir(images_dir):\n",
        "            print(filename)\n",
        "\t\t\t# extract image id\n",
        "            image_id = filename[:-4]\n",
        "\t\t\t#print('IMAGE ID: ',image_id)\n",
        "\n",
        "\t\t\t# skip all images after 115 if we are building the train set\n",
        "            if is_train and int(image_id) >= 250:\n",
        "                continue\n",
        "\t\t\t# skip all images before 115 if we are building the test/val set\n",
        "            if not is_train and int(image_id) < 250:\n",
        "                continue\n",
        "            img_path = images_dir + filename\n",
        "            ann_path = annotations_dir + image_id + '.xml'\n",
        "\t\t\t# add to dataset\n",
        "            self.add_image('dataset', image_id=image_id, path=img_path, annotation=ann_path, class_ids = [0,1,2,3])\n",
        "\n",
        "\n",
        "\t# extract bounding boxes from an annotation file\n",
        "    def extract_boxes(self, filename):\n",
        "\t\t# load and parse the file\n",
        "        tree = ElementTree.parse(filename)\n",
        "\t\t# get the root of the document\n",
        "        root = tree.getroot()\n",
        "\t\t# extract each bounding box\n",
        "        boxes = list()\n",
        "        for box in root.findall('.//object'):\n",
        "            name = box.find('name').text   #Add label name to the box list\n",
        "            xmin = int(box.find('./bndbox/xmin').text)\n",
        "            ymin = int(box.find('./bndbox/ymin').text)\n",
        "            xmax = int(box.find('./bndbox/xmax').text)\n",
        "            ymax = int(box.find('./bndbox/ymax').text)\n",
        "            coors = [xmin, ymin, xmax, ymax, name]\n",
        "            boxes.append(coors)\n",
        "\t\t# extract image dimensions\n",
        "        width = int(root.find('.//size/width').text)\n",
        "        height = int(root.find('.//size/height').text)\n",
        "        return boxes, width, height\n",
        "\n",
        "\t# load the masks for an image\n",
        "    def load_mask(self, image_id):\n",
        "\t\t# get details of image\n",
        "        info = self.image_info[image_id]\n",
        "\t\t# define box file location\n",
        "        path = info['annotation']\n",
        "        #return info, path\n",
        "\n",
        "\n",
        "\t\t# load XML\n",
        "        boxes, w, h = self.extract_boxes(path)\n",
        "\t\t# create one array for all masks, each on a different channel\n",
        "        masks = zeros([h, w, len(boxes)], dtype='uint8')\n",
        "\t\t# create masks\n",
        "        class_ids = list()\n",
        "        for i in range(len(boxes)):\n",
        "            box = boxes[i]\n",
        "            row_s, row_e = box[1], box[3]\n",
        "            col_s, col_e = box[0], box[2]\n",
        "\n",
        "\n",
        "            # box[4] will have the name of the class\n",
        "            if (box[4] == 'Black Rot'):\n",
        "                masks[row_s:row_e, col_s:col_e, i] = 1\n",
        "                class_ids.append(self.class_names.index('Black Rot'))\n",
        "            elif(box[4] == 'Apple Scab'):\n",
        "                masks[row_s:row_e, col_s:col_e, i] = 2\n",
        "                class_ids.append(self.class_names.index('Apple Scab'))\n",
        "            elif(box[4] == 'Cedar Apple'):\n",
        "                masks[row_s:row_e, col_s:col_e, i] = 3\n",
        "                class_ids.append(self.class_names.index('Cedar Apple'))\n",
        "\n",
        "        return masks, asarray(class_ids, dtype='int32')\n",
        "\n",
        "\n",
        "\t# load an image reference\n",
        "    def image_reference(self, image_id):\n",
        "        info = self.image_info[image_id]\n",
        "        return info['path']\n"
      ],
      "metadata": {
        "id": "Y7sfyz5g6L2E"
      },
      "execution_count": 25,
      "outputs": []
    },
    {
      "cell_type": "code",
      "source": [
        "# train set\n",
        "train_set = AppleLeafDataset()\n",
        "train_set.load_dataset(dataset_dir, is_train=True)\n",
        "train_set.prepare()\n",
        "print('Train: %d' % len(train_set.image_ids))\n",
        "\n",
        "# test/val set\n",
        "test_set = AppleLeafDataset()\n",
        "test_set.load_dataset(dataset_dir, is_train=False)\n",
        "test_set.prepare()\n",
        "print('Test: %d' % len(test_set.image_ids))\n",
        "\n",
        "import random\n",
        "num=random.randint(0, len(train_set.image_ids))\n",
        "# define image id\n",
        "image_id = num\n",
        "# load the image\n",
        "image = train_set.load_image(image_id)\n",
        "# load the masks and the class ids\n",
        "mask, class_ids = train_set.load_mask(image_id)\n",
        "# extract bounding boxes from the masks\n",
        "bbox = extract_bboxes(mask)\n",
        "# display image with masks and bounding boxes\n",
        "display_instances(image, bbox, mask, class_ids, train_set.class_names)"
      ],
      "metadata": {
        "id": "7nSSeJmjfREW",
        "outputId": "8eacff26-b2ee-4656-850e-403665a08db9",
        "colab": {
          "base_uri": "https://localhost:8080/",
          "height": 418
        }
      },
      "execution_count": 26,
      "outputs": [
        {
          "output_type": "error",
          "ename": "FileNotFoundError",
          "evalue": "ignored",
          "traceback": [
            "\u001b[0;31m---------------------------------------------------------------------------\u001b[0m",
            "\u001b[0;31mFileNotFoundError\u001b[0m                         Traceback (most recent call last)",
            "\u001b[0;32m<ipython-input-26-524a270bff74>\u001b[0m in \u001b[0;36m<cell line: 3>\u001b[0;34m()\u001b[0m\n\u001b[1;32m      1\u001b[0m \u001b[0;31m# train set\u001b[0m\u001b[0;34m\u001b[0m\u001b[0;34m\u001b[0m\u001b[0m\n\u001b[1;32m      2\u001b[0m \u001b[0mtrain_set\u001b[0m \u001b[0;34m=\u001b[0m \u001b[0mAppleLeafDataset\u001b[0m\u001b[0;34m(\u001b[0m\u001b[0;34m)\u001b[0m\u001b[0;34m\u001b[0m\u001b[0;34m\u001b[0m\u001b[0m\n\u001b[0;32m----> 3\u001b[0;31m \u001b[0mtrain_set\u001b[0m\u001b[0;34m.\u001b[0m\u001b[0mload_dataset\u001b[0m\u001b[0;34m(\u001b[0m\u001b[0mdataset_dir\u001b[0m\u001b[0;34m,\u001b[0m \u001b[0mis_train\u001b[0m\u001b[0;34m=\u001b[0m\u001b[0;32mTrue\u001b[0m\u001b[0;34m)\u001b[0m\u001b[0;34m\u001b[0m\u001b[0;34m\u001b[0m\u001b[0m\n\u001b[0m\u001b[1;32m      4\u001b[0m \u001b[0mtrain_set\u001b[0m\u001b[0;34m.\u001b[0m\u001b[0mprepare\u001b[0m\u001b[0;34m(\u001b[0m\u001b[0;34m)\u001b[0m\u001b[0;34m\u001b[0m\u001b[0;34m\u001b[0m\u001b[0m\n\u001b[1;32m      5\u001b[0m \u001b[0mprint\u001b[0m\u001b[0;34m(\u001b[0m\u001b[0;34m'Train: %d'\u001b[0m \u001b[0;34m%\u001b[0m \u001b[0mlen\u001b[0m\u001b[0;34m(\u001b[0m\u001b[0mtrain_set\u001b[0m\u001b[0;34m.\u001b[0m\u001b[0mimage_ids\u001b[0m\u001b[0;34m)\u001b[0m\u001b[0;34m)\u001b[0m\u001b[0;34m\u001b[0m\u001b[0;34m\u001b[0m\u001b[0m\n",
            "\u001b[0;32m<ipython-input-25-3676228982fb>\u001b[0m in \u001b[0;36mload_dataset\u001b[0;34m(self, dataset_dir, is_train)\u001b[0m\n\u001b[1;32m     13\u001b[0m \u001b[0;34m\u001b[0m\u001b[0m\n\u001b[1;32m     14\u001b[0m                 \u001b[0;31m# find all images\u001b[0m\u001b[0;34m\u001b[0m\u001b[0;34m\u001b[0m\u001b[0m\n\u001b[0;32m---> 15\u001b[0;31m         \u001b[0;32mfor\u001b[0m \u001b[0mfilename\u001b[0m \u001b[0;32min\u001b[0m \u001b[0mlistdir\u001b[0m\u001b[0;34m(\u001b[0m\u001b[0mimages_dir\u001b[0m\u001b[0;34m)\u001b[0m\u001b[0;34m:\u001b[0m\u001b[0;34m\u001b[0m\u001b[0;34m\u001b[0m\u001b[0m\n\u001b[0m\u001b[1;32m     16\u001b[0m             \u001b[0mprint\u001b[0m\u001b[0;34m(\u001b[0m\u001b[0mfilename\u001b[0m\u001b[0;34m)\u001b[0m\u001b[0;34m\u001b[0m\u001b[0;34m\u001b[0m\u001b[0m\n\u001b[1;32m     17\u001b[0m                         \u001b[0;31m# extract image id\u001b[0m\u001b[0;34m\u001b[0m\u001b[0;34m\u001b[0m\u001b[0m\n",
            "\u001b[0;31mFileNotFoundError\u001b[0m: [Errno 2] No such file or directory: 'C:/Users/user/OneDrive - Sri Lanka Institute of Information Technology/Y4S1/....... july-Dec/DL/Assignment/model/Diseased-Maize-Leaves-Detection---Supervised-Learning/images/'"
          ]
        }
      ]
    },
    {
      "cell_type": "markdown",
      "source": [
        "**Training**"
      ],
      "metadata": {
        "id": "kNdRmW69jS56"
      }
    },
    {
      "cell_type": "code",
      "source": [
        "# define a configuration for the model\n",
        "class AppleLeavesConfig(Config):\n",
        "\t# define the name of the configuration\n",
        "\tNAME = \"object\"\n",
        "\n",
        "\tNUM_CLASSES = 1 + 3\n",
        "\t# number of training steps per epoch\n",
        "\tSTEPS_PER_EPOCH = 100\n",
        "\n",
        "# prepare config\n",
        "config = AppleLeavesConfig()\n",
        "config.display()"
      ],
      "metadata": {
        "id": "GOPMOeWHhOoW"
      },
      "execution_count": null,
      "outputs": []
    },
    {
      "cell_type": "code",
      "source": [
        "import os\n",
        "ROOT_DIR = os.path.abspath(\"./\")\n",
        "# Directory to save logs and trained model\n",
        "DEFAULT_LOGS_DIR = os.path.join(ROOT_DIR, \"logs\")"
      ],
      "metadata": {
        "id": "6ZVlATnqhxIj"
      },
      "execution_count": null,
      "outputs": []
    },
    {
      "cell_type": "code",
      "source": [
        "# define the model\n",
        "model = MaskRCNN(mode='training', model_dir=\"logs\", config=config)\n",
        "# load weights (mscoco) and exclude the output layers\n",
        "model.load_weights(\"weights/mask_rcnn_coco.h5\", by_name=True, exclude=[\"mrcnn_class_logits\", \"mrcnn_bbox_fc\",  \"mrcnn_bbox\", \"mrcnn_mask\"])\n",
        "\n",
        "\n",
        "# train weights (output layers or 'heads')\n",
        "model.train(train_set, test_set, learning_rate=config.LEARNING_RATE, epochs=20, layers='heads')"
      ],
      "metadata": {
        "id": "4IWEgdNPjff4"
      },
      "execution_count": null,
      "outputs": []
    },
    {
      "cell_type": "code",
      "source": [
        "from matplotlib.patches import Rectangle"
      ],
      "metadata": {
        "id": "Y416jIe5jr8l"
      },
      "execution_count": null,
      "outputs": []
    },
    {
      "cell_type": "markdown",
      "source": [
        "**Prediction**"
      ],
      "metadata": {
        "id": "Zi9ELQS9jtdf"
      }
    },
    {
      "cell_type": "code",
      "source": [
        "class PredictionConfig(Config):\n",
        "\t# define the name of the configuration\n",
        "\tNAME = \"objects\"\n",
        "\n",
        "\tNUM_CLASSES = 1 + 3\n",
        "\n",
        "\tGPU_COUNT = 1\n",
        "\tIMAGES_PER_GPU = 1"
      ],
      "metadata": {
        "id": "f20Mpb5Rjvcm"
      },
      "execution_count": null,
      "outputs": []
    },
    {
      "cell_type": "code",
      "source": [
        "# create config\n",
        "cfg = PredictionConfig()\n",
        "# define the model\n",
        "model = MaskRCNN(mode='inference', model_dir='logs', config=cfg)\n",
        "# load model weights\n",
        "model.load_weights('logs/mask_rcnn_fruits_cfg_0020.h5', by_name=True)"
      ],
      "metadata": {
        "id": "W4MlPEtNjx9V"
      },
      "execution_count": null,
      "outputs": []
    },
    {
      "cell_type": "code",
      "source": [
        "import skimage\n",
        "\n",
        "fruit_img = skimage.io.imread(\"datasets/fruit-bowl.jpg\")\n",
        "detected = model.detect([fruit_img])[0]\n",
        "\n",
        "pyplot.imshow(fruit_img)\n",
        "ax = pyplot.gca()\n",
        "class_names = ['apple', 'banana', 'orange']\n",
        "class_id_counter=1\n",
        "for box in detected['rois']:\n",
        "    #print(box)\n",
        "#get coordinates\n",
        "    detected_class_id = detected['class_ids'][class_id_counter-1]\n",
        "    #print(detected_class_id)\n",
        "    #print(\"Detected class is :\", class_names[detected_class_id-1])\n",
        "    y1, x1, y2, x2 = box\n",
        "    #calculate width and height of the box\n",
        "    width, height = x2 - x1, y2 - y1\n",
        "    #create the shape\n",
        "    ax.annotate(class_names[detected_class_id-1], (x1, y1), color='black', weight='bold', fontsize=10, ha='center', va='center')\n",
        "    rect = Rectangle((x1, y1), width, height, fill=False, color='red')\n",
        "#draw the box\n",
        "    ax.add_patch(rect)\n",
        "    class_id_counter+=1\n",
        "#show the figure\n",
        "pyplot.show()"
      ],
      "metadata": {
        "id": "CQjMyxlqnDoF"
      },
      "execution_count": null,
      "outputs": []
    }
  ]
}